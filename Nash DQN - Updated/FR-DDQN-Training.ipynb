{
 "cells": [
  {
   "cell_type": "code",
   "execution_count": null,
   "metadata": {},
   "outputs": [],
   "source": [
    "%load_ext autoreload\n",
    "%autoreload 2"
   ]
  },
  {
   "cell_type": "code",
   "execution_count": null,
   "metadata": {},
   "outputs": [],
   "source": [
    "import torch\n",
    "import numpy as np\n",
    "from PolicyGrad import Policy, fic_replay_bp_ddqn"
   ]
  },
  {
   "cell_type": "code",
   "execution_count": null,
   "metadata": {
    "scrolled": true
   },
   "outputs": [],
   "source": [
    "from simulation_lib import *\n",
    "\n",
    "# Set global digit printing options\n",
    "np.set_printoptions(precision=4)\n",
    "\n",
    "# Define Training and Model Parameters\n",
    "num_players = 5           # Total number of agents\n",
    "\n",
    "# Default simulation parameters\n",
    "\n",
    "kappa = 0.5\n",
    "sim_dict = {\n",
    "        'perm_price_impact': torch.tensor(0.05).cuda(),\n",
    "        'transaction_cost': torch.tensor(.1).cuda(),\n",
    "        'liquidation_cost': torch.tensor(.1).cuda(),\n",
    "        'running_penalty': torch.tensor(0.0).cuda(),\n",
    "        'trans_impact_scale':torch.tensor(0.02).cuda(),\n",
    "        'trans_impact_decay':torch.tensor(0.5).cuda(),\n",
    "        'T': torch.tensor(5).cuda(),\n",
    "        'dt': torch.tensor(0.5).cuda(),\n",
    "        'N_agents': num_players,\n",
    "        'drift_function': (lambda x, y: kappa*(10-y)),\n",
    "        'volatility': torch.tensor(0.1).cuda(),\n",
    "        #'initial_price_var': .2,\n",
    "        'init_inv_var': torch.tensor(50).cuda()}\n",
    "\n",
    "# compute invariant distribution for initial price variance\n",
    "inv_std = sim_dict['volatility']* torch.sqrt((1 - torch.exp(-2*kappa*sim_dict['T']))/ (2*kappa))\n",
    "sim_dict['initial_price_var'] = torch.tensor(inv_std).cuda()\n",
    "\n",
    "norm_mean = torch.tensor([2.25, 10, 0, 0 ]).cuda()\n",
    "norm_std = torch.tensor([1.4361406616345072, 0.74204157112471332, 4.512414940762905, 0.33068192958806433 ]).cuda()\n",
    "\n",
    "sim_obj = MarketSimulator(sim_dict, store_hist = False, impact='sqrt')"
   ]
  },
  {
   "cell_type": "code",
   "execution_count": null,
   "metadata": {},
   "outputs": [],
   "source": [
    "torch.autograd.set_detect_anomaly(True)"
   ]
  },
  {
   "cell_type": "code",
   "execution_count": null,
   "metadata": {
    "scrolled": true
   },
   "outputs": [],
   "source": [
    "pol, val, pol_t_loss_arr, val_t_loss_arr = fic_replay_bp_ddqn(sim_obj, norm_mean, norm_std,  its=20, tau=0.5, it_lim=5000,start_itn=10000, lr=3e-4, weight_decay=1e-3, other_pol_init=None, starting_i=0, wdir='/pt_files/Fic_play_ddqn/', q0=True, minibatch=10)"
   ]
  }
 ],
 "metadata": {
  "kernelspec": {
   "display_name": "Python 3",
   "language": "python",
   "name": "python3"
  },
  "language_info": {
   "codemirror_mode": {
    "name": "ipython",
    "version": 3
   },
   "file_extension": ".py",
   "mimetype": "text/x-python",
   "name": "python",
   "nbconvert_exporter": "python",
   "pygments_lexer": "ipython3",
   "version": "3.8.11"
  }
 },
 "nbformat": 4,
 "nbformat_minor": 4
}
