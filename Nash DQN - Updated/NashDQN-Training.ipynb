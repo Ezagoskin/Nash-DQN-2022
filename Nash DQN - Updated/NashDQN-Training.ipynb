{
 "cells": [
  {
   "cell_type": "code",
   "execution_count": null,
   "metadata": {},
   "outputs": [],
   "source": [
    "%load_ext autoreload\n",
    "%autoreload 2"
   ]
  },
  {
   "cell_type": "code",
   "execution_count": null,
   "metadata": {
    "scrolled": false
   },
   "outputs": [],
   "source": [
    "import matplotlib.pyplot as plt\n",
    "import numpy as np\n",
    "import torch\n",
    "from datetime import date\n",
    "from NashRL import run_Nash_Agent\n",
    "from NashAgent_lib import *\n",
    "import time\n",
    "\n",
    "from simulation_lib import MarketSimulator\n",
    "\n",
    "\n",
    "# Set global digit printing options\n",
    "np.set_printoptions(precision=4)\n",
    "\n",
    "# Define Training and Model Parameters\n",
    "num_players = 5           # Total number of agents\n",
    "\n",
    "# Default simulation parameters\n",
    "\n",
    "kappa = 0.5\n",
    "sim_dict = {\n",
    "        'perm_price_impact': torch.tensor(0.05).cuda().detach(),\n",
    "        'transaction_cost': torch.tensor(.1).cuda().detach(),\n",
    "        'liquidation_cost': torch.tensor(.1).cuda().detach(),\n",
    "        'running_penalty': torch.tensor(0.0).cuda().detach(),\n",
    "        'trans_impact_scale':torch.tensor(0.02).cuda().detach(),\n",
    "        'trans_impact_decay':torch.tensor(0.5).cuda().detach(),\n",
    "        'T': torch.tensor(5).cuda().detach(),\n",
    "        'dt': torch.tensor(0.5).cuda().detach(),\n",
    "        'N_agents': num_players,\n",
    "        'drift_function': (lambda x, y: kappa*(10-y)),\n",
    "        'volatility': torch.tensor(0.1).cuda().detach(),\n",
    "        'init_inv_var': torch.tensor(50).cuda().detach()}\n",
    "\n",
    "# compute invariant distribution for initial price variance\n",
    "inv_std = sim_dict['volatility']* torch.sqrt((1 - torch.exp(-2*kappa*sim_dict['T']))/ (2*kappa))\n",
    "sim_dict['initial_price_var'] = torch.tensor(inv_std).cuda().detach()\n",
    "\n",
    "norm_mean = torch.tensor([2.25, 10, 0, 0, 0 ]).cuda().detach()\n",
    "norm_std = torch.tensor([1.4361406616345072, 0.74204157112471332 * 0.2763, 2.5 * 1.8078, 0.1 * 0.4225, 1 * 1.6726]).cuda().detach()\n",
    "\n",
    "sim_obj = MarketSimulator(sim_dict, impact='sqrt')\n",
    "\n",
    "nash_agent = NashNN(non_invar_dim=5, n_players=sim_obj.N,\n",
    "                    output_dim=5, max_steps=10, lr = 3e-4, weighted_adam=True,\n",
    "                    terminal_cost=sim_dict['liquidation_cost'], num_moms=0,c_cons=50,c2_cons=False,c3_pos=False, layers=4)"
   ]
  },
  {
   "cell_type": "code",
   "execution_count": null,
   "metadata": {
    "scrolled": true
   },
   "outputs": [],
   "source": [
    "start = time.time()\n",
    "\n",
    "str_dt = date.today().strftime(\"%d%m%Y\")\n",
    "nash_agent, loss_data = \\\n",
    "    run_Nash_Agent(sim_obj, sim_dict, nash_agent=nash_agent, num_sim=20000, max_steps = 10,\n",
    "                   norm_mean = norm_mean,\n",
    "                   norm_std = norm_std,\n",
    "                   rv_min=0.5, rv_max=2.5, early_stop=True, early_lim=3000,\n",
    "                   path = \"/pt_files/Nash_DQN/\",\n",
    "                   AN_file_name=\"/pt_files/Nash_DQN/Action_Net_ADA\", \n",
    "                   VN_file_name=\"/pt_files/Nash_DQN/Value_Net_ADA\")\n",
    "\n",
    "print(\"Total time taken: \")\n",
    "print(time.time() - start)"
   ]
  },
  {
   "cell_type": "code",
   "execution_count": null,
   "metadata": {},
   "outputs": [],
   "source": [
    "import matplotlib.pyplot as plt\n",
    "\n",
    "plt.plot(loss_data)\n",
    "plt.ylim((0, 100))"
   ]
  }
 ],
 "metadata": {
  "kernelspec": {
   "display_name": "Python 3",
   "language": "python",
   "name": "python3"
  },
  "language_info": {
   "codemirror_mode": {
    "name": "ipython",
    "version": 3
   },
   "file_extension": ".py",
   "mimetype": "text/x-python",
   "name": "python",
   "nbconvert_exporter": "python",
   "pygments_lexer": "ipython3",
   "version": "3.8.11"
  }
 },
 "nbformat": 4,
 "nbformat_minor": 4
}
