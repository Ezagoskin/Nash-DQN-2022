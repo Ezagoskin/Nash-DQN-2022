{
 "cells": [
  {
   "cell_type": "code",
   "execution_count": null,
   "metadata": {
    "scrolled": true
   },
   "outputs": [],
   "source": [
    "#Runs the algorthim with default parameters\n",
    "#from NashRL import run_Nash_Agent\n",
    "\n",
    "from NashRL import *\n",
    "#num_sim: number of simulations to run for\n",
    "#AN_file_name: file name to output action network parameters to (defult is \"Action_Net\")\n",
    "#VN_file_name: file name to output value network parameters to (default is \"Value_Net\")\n",
    "run_Nash_Agent(num_sim = 15000, AN_file_name = \"Action_Net\")"
   ]
  },
  {
   "cell_type": "code",
   "execution_count": null,
   "metadata": {},
   "outputs": [],
   "source": []
  }
 ],
 "metadata": {
  "kernelspec": {
   "display_name": "Python 3",
   "language": "python",
   "name": "python3"
  },
  "language_info": {
   "codemirror_mode": {
    "name": "ipython",
    "version": 3
   },
   "file_extension": ".py",
   "mimetype": "text/x-python",
   "name": "python",
   "nbconvert_exporter": "python",
   "pygments_lexer": "ipython3",
   "version": "3.6.6"
  }
 },
 "nbformat": 4,
 "nbformat_minor": 2
}
